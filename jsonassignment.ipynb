{
 "cells": [
  {
   "cell_type": "code",
   "execution_count": 1,
   "id": "3f00c5b7-b5d6-4a31-950f-5a421907b0de",
   "metadata": {},
   "outputs": [
    {
     "name": "stdin",
     "output_type": "stream",
     "text": [
      "Enter your account number:  1111\n",
      "Enter your ATM pin:  1111\n",
      "Enter your account type (ex.saving):  saving\n",
      "Enter your mobile number:  9718292990\n",
      "Enter the amount you want to withdraw:  20000\n"
     ]
    },
    {
     "name": "stdout",
     "output_type": "stream",
     "text": [
      "Withdrawal successful! New balance: 156377.0\n",
      "Account balance has been updated.\n"
     ]
    }
   ],
   "source": [
    "import json\n",
    "\n",
    "\n",
    "def load_account_data(file_name):\n",
    "    with open(file_name, 'r') as file:\n",
    "        data = json.load(file)\n",
    "    return data\n",
    "\n",
    "\n",
    "def save_account_data(file_name, data):\n",
    "    with open(file_name, 'w') as file:\n",
    "        json.dump(data, file, indent=4)\n",
    "\n",
    "\n",
    "def process_withdrawal(file_name):\n",
    "    \n",
    "    account_info = load_account_data(file_name)\n",
    "\n",
    "  \n",
    "    account_number = int(input(\"Enter your account number: \"))\n",
    "    if account_number != account_info['accountnumber']:\n",
    "        print(\"Account number is incorrect. Transaction terminated.\")\n",
    "        return\n",
    "\n",
    "   \n",
    "    atm_pin = int(input(\"Enter your ATM pin: \"))\n",
    "    if atm_pin != account_info['atmpin']:\n",
    "        print(\"ATM pin is incorrect. Transaction terminated.\")\n",
    "        return\n",
    "\n",
    "   \n",
    "    account_type = input(\"Enter your account type (ex.saving): \")\n",
    "    if account_type != account_info['account']:\n",
    "        print(\"Account type is incorrect. Transaction terminated.\")\n",
    "        return\n",
    "\n",
    "    mobile_number = input(\"Enter your mobile number: \")\n",
    "    if mobile_number != account_info['phoneNumbers'][0]['number']:\n",
    "        print(\"Mobile number is incorrect. Transaction terminated.\")\n",
    "        return\n",
    "\n",
    " \n",
    "    withdraw_amount = float(input(\"Enter the amount you want to withdraw: \"))\n",
    "    if withdraw_amount > account_info['account_balance']:\n",
    "        print(\"Insufficient balance. Transaction terminated.\")\n",
    "        return\n",
    "\n",
    "\n",
    "    account_info['account_balance'] -= withdraw_amount\n",
    "    print(f\"Withdrawal successful! New balance: {account_info['account_balance']}\")\n",
    "\n",
    "    save_account_data(file_name, account_info)\n",
    "    print(\"Account balance has been updated\")\n",
    "\n",
    "\n",
    "process_withdrawal('rohit.json')\n"
   ]
  },
  {
   "cell_type": "code",
   "execution_count": null,
   "id": "0ac185e9-f25a-47be-801d-b0f91f29ee47",
   "metadata": {},
   "outputs": [],
   "source": []
  }
 ],
 "metadata": {
  "kernelspec": {
   "display_name": "Python 3 (ipykernel)",
   "language": "python",
   "name": "python3"
  },
  "language_info": {
   "codemirror_mode": {
    "name": "ipython",
    "version": 3
   },
   "file_extension": ".py",
   "mimetype": "text/x-python",
   "name": "python",
   "nbconvert_exporter": "python",
   "pygments_lexer": "ipython3",
   "version": "3.12.4"
  }
 },
 "nbformat": 4,
 "nbformat_minor": 5
}
